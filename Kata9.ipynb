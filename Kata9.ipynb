{
 "cells": [
  {
   "cell_type": "markdown",
   "metadata": {},
   "source": [
    "## Kata 9\n",
    "Ejemplos de práctica"
   ]
  },
  {
   "cell_type": "code",
   "execution_count": 9,
   "metadata": {},
   "outputs": [
    {
     "data": {
      "text/plain": [
       "133"
      ]
     },
     "execution_count": 9,
     "metadata": {},
     "output_type": "execute_result"
    }
   ],
   "source": [
    "def distance_from_earth(destination):\n",
    "    if destination =='Moon':\n",
    "        return '238,855'\n",
    "    else:\n",
    "        return 'Unable to compute to that destination'\n",
    "\n",
    "distance_from_earth('Moon')\n",
    "\n",
    "def days_to_complete(distance, speed):\n",
    "    hours = distance / speed\n",
    "    return hours / 24\n",
    "\n",
    "days_to_complete(238855,75)\n",
    "total_days = days_to_complete(238855,75)\n",
    "round(total_days)"
   ]
  },
  {
   "cell_type": "code",
   "execution_count": 16,
   "metadata": {},
   "outputs": [
    {
     "data": {
      "text/plain": [
       "'Orbit Arrival: Sunday 19:46'"
      ]
     },
     "execution_count": 16,
     "metadata": {},
     "output_type": "execute_result"
    }
   ],
   "source": [
    "from datetime import timedelta, datetime\n",
    "\n",
    "def arrival_time(destination, hours=51):\n",
    "    now = datetime.now()\n",
    "    arrival = now + timedelta(hours=hours)\n",
    "    return arrival.strftime(f'{destination} Arrival: %A %H:%M')\n",
    "\n",
    "arrival_time('Orbit', hours=.13)"
   ]
  },
  {
   "cell_type": "code",
   "execution_count": 23,
   "metadata": {},
   "outputs": [
    {
     "name": "stdout",
     "output_type": "stream",
     "text": [
      "(None,)\n"
     ]
    },
    {
     "data": {
      "text/plain": [
       "'Total time to launch is 2.933333333333333 hours'"
      ]
     },
     "execution_count": 23,
     "metadata": {},
     "output_type": "execute_result"
    }
   ],
   "source": [
    "def variable_length(*args):\n",
    "    print(args)\n",
    "\n",
    "variable_length(None)\n",
    "\n",
    "def sequence_time(*args):\n",
    "    total_minutes = sum(args)\n",
    "    if total_minutes < 60:\n",
    "        return f'Total time to launch is {total_minutes} minutes'\n",
    "    else:\n",
    "        return f'Total time to launch is {total_minutes / 60} hours'\n",
    "\n",
    "sequence_time(4, 154, 18)"
   ]
  },
  {
   "cell_type": "code",
   "execution_count": 26,
   "metadata": {},
   "outputs": [
    {
     "name": "stdout",
     "output_type": "stream",
     "text": [
      "{'tanks': 1, 'day': 'Wednesday', 'pilots': 3}\n",
      "3 astronauts assigned for this mission:\n",
      "captain: Neil Armstrong\n",
      "pilot: Buzz Aldrin\n",
      "command_pilot: Michael Collins\n"
     ]
    }
   ],
   "source": [
    "def variable_length(**kwargs):\n",
    "    print(kwargs)\n",
    "\n",
    "variable_length(tanks=1, day='Wednesday', pilots=3)\n",
    "\n",
    "def crew_members(**kwargs):\n",
    "    print(f'{len(kwargs)} astronauts assigned for this mission:')\n",
    "    for title, name in kwargs.items():\n",
    "        print(f'{title}: {name}')\n",
    "        \n",
    "crew_members(captain='Neil Armstrong', pilot='Buzz Aldrin', command_pilot='Michael Collins')\n"
   ]
  },
  {
   "cell_type": "markdown",
   "metadata": {},
   "source": [
    "## Ejercicio solicitado #1 a continuación"
   ]
  },
  {
   "cell_type": "code",
   "execution_count": 45,
   "metadata": {},
   "outputs": [
    {
     "name": "stdout",
     "output_type": "stream",
     "text": [
      "Reporte de tanques: Total 8.666666666666666%, tk1: 11%, tk2: 14%, tk3: 1%\n",
      "Reporte de tanques: Total 48.0% tk1: 48%, tk2: 82%, tk3: 14%\n"
     ]
    }
   ],
   "source": [
    "def tanks_report(tk1, tk2, tk3):\n",
    "    total = (tk1 + tk2 + tk3) / 3\n",
    "    return f'Reporte de tanques: Total {total}%, tk1: {tk1}%, tk2: {tk2}%, tk3: {tk3}%'\n",
    "\n",
    "print(tanks_report(11, 14, 1))\n",
    "\n",
    "def promedio(valores):\n",
    "    total = sum(valores)\n",
    "    numero_tanques = len(valores)\n",
    "    return total / numero_tanques\n",
    "\n",
    "promedio([84,50,16]) \n",
    "\n",
    "def tanks_report(tk1, tk2, tk3):\n",
    "    return f'Reporte de tanques: Total {promedio ([tk1, tk2, tk3])}% tk1: {tk1}%, tk2: {tk2}%, tk3: {tk3}%'\n",
    "\n",
    "print(tanks_report(48, 82, 14))"
   ]
  },
  {
   "cell_type": "markdown",
   "metadata": {},
   "source": [
    "## Ejercicio solicitado #2 a continuación"
   ]
  },
  {
   "cell_type": "code",
   "execution_count": 54,
   "metadata": {},
   "outputs": [
    {
     "name": "stdout",
     "output_type": "stream",
     "text": [
      "\n",
      "    Destino Moon\n",
      "    Tiempo de llegada 61 horas\n",
      "    Combustible 1000 litros\n",
      "\n",
      "    Destino Moon\n",
      "    Tiempo de llegada 63 horas\n",
      "    Combustible 1800 litros\n",
      "\n",
      "    Destino Moon\n",
      "    Tiempo de llegada 63 horas\n",
      "    Combustible 1800 litros\n",
      "tank1 --> quedan 1000 litros\n",
      "\n",
      "tank2 --> quedan 800 litros\n",
      "\n"
     ]
    }
   ],
   "source": [
    "def mission_report(time_pre, fligth_time, destination, tank):\n",
    "    return f\"\"\"\n",
    "    Destino {destination}\n",
    "    Tiempo de llegada {time_pre + fligth_time} horas\n",
    "    Combustible {tank} litros\"\"\"\n",
    "\n",
    "print(mission_report(10, 51, 'Moon', 1000))\n",
    "\n",
    "def mission_report(destination, *hours, **tanks):\n",
    "    return f\"\"\"\n",
    "    Destino {destination}\n",
    "    Tiempo de llegada {sum(hours)} horas\n",
    "    Combustible {sum(tanks.values())} litros\"\"\"\n",
    "\n",
    "print(mission_report('Moon', 10, 51, 2, tank1=1000, tank2=800))\n",
    "\n",
    "def mission_report(destination, *hours, **tanks):\n",
    "    report = f\"\"\"\n",
    "    Destino {destination}\n",
    "    Tiempo de llegada {sum(hours)} horas\n",
    "    Combustible {sum(tanks.values())} litros\"\"\"\n",
    "\n",
    "    for tank_name, litros in tanks.items():\n",
    "        report += f\"\\n{tank_name} --> quedan {litros} litros\\n\"\n",
    "    return report\n",
    "\n",
    "print(mission_report('Moon', 10, 51, 2, tank1=1000, tank2=800))\n"
   ]
  }
 ],
 "metadata": {
  "interpreter": {
   "hash": "c13466178f2c0bdc7a6c6895cf13353662263f09b1bfb5c7d13eacc9395e8577"
  },
  "kernelspec": {
   "display_name": "Python 3.7.6 64-bit",
   "language": "python",
   "name": "python3"
  },
  "language_info": {
   "codemirror_mode": {
    "name": "ipython",
    "version": 3
   },
   "file_extension": ".py",
   "mimetype": "text/x-python",
   "name": "python",
   "nbconvert_exporter": "python",
   "pygments_lexer": "ipython3",
   "version": "3.7.6"
  },
  "orig_nbformat": 4
 },
 "nbformat": 4,
 "nbformat_minor": 2
}
