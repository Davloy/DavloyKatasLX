{
 "cells": [
  {
   "cell_type": "markdown",
   "metadata": {},
   "source": [
    "## Ejjercicios Kata 6\n",
    "Creando lista de planetas"
   ]
  },
  {
   "cell_type": "code",
   "execution_count": 4,
   "metadata": {},
   "outputs": [
    {
     "name": "stdout",
     "output_type": "stream",
     "text": [
      "Son 8 planetas\n",
      "Ahora son 9 planetas\n",
      "plutón es el último planeta\n"
     ]
    }
   ],
   "source": [
    "planets = ['mercurio', 'venus', 'tierra', 'marte', 'jupiter', 'saturno', 'urano', 'neptuno']\n",
    "print('Son', len(planets), 'planetas')\n",
    "planets.append('plutón')\n",
    "print('Ahora son', len(planets), 'planetas')\n",
    "print(planets[-1], 'es el último planeta')"
   ]
  },
  {
   "cell_type": "code",
   "execution_count": 8,
   "metadata": {},
   "outputs": [
    {
     "name": "stdout",
     "output_type": "stream",
     "text": [
      "Planetas que estan antes del elegido por el usuario:  ['Mercurio', 'Venus', 'Tierra', 'Marte', 'Jupiter']\n",
      "Planetas que estan despues del elegido por el usuario: ['Urano', 'Neptuno', 'Pluton']\n"
     ]
    }
   ],
   "source": [
    "planets = ['Mercurio', 'Venus', 'Tierra', 'Marte', 'Jupiter', 'Saturno', 'Urano', 'Neptuno', 'Pluton']\n",
    "user_planet = input('Ingrese el nombre de un planeta (comienza con una mayuscula por favor).')\n",
    "answer = planets.index(user_planet)\n",
    "planets_before_user_planet = planets[0:answer]\n",
    "print('Planetas que estan antes del elegido por el usuario: ', planets_before_user_planet)\n",
    "planets_after_user_planet = planets[answer+1:]\n",
    "print('Planetas que estan despues del elegido por el usuario:', planets_after_user_planet)"
   ]
  }
 ],
 "metadata": {
  "interpreter": {
   "hash": "c13466178f2c0bdc7a6c6895cf13353662263f09b1bfb5c7d13eacc9395e8577"
  },
  "kernelspec": {
   "display_name": "Python 3.7.6 64-bit",
   "language": "python",
   "name": "python3"
  },
  "language_info": {
   "codemirror_mode": {
    "name": "ipython",
    "version": 3
   },
   "file_extension": ".py",
   "mimetype": "text/x-python",
   "name": "python",
   "nbconvert_exporter": "python",
   "pygments_lexer": "ipython3",
   "version": "3.7.6"
  },
  "orig_nbformat": 4
 },
 "nbformat": 4,
 "nbformat_minor": 2
}
