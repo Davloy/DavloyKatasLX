{
 "cells": [
  {
   "cell_type": "markdown",
   "metadata": {},
   "source": [
    "## Practicando"
   ]
  },
  {
   "cell_type": "code",
   "execution_count": 7,
   "metadata": {},
   "outputs": [],
   "source": [
    "a = 97\n",
    "b = 55\n",
    "if a < b:\n",
    "    print(b)"
   ]
  },
  {
   "cell_type": "code",
   "execution_count": 12,
   "metadata": {},
   "outputs": [
    {
     "name": "stdout",
     "output_type": "stream",
     "text": [
      "a es mayor que b\n"
     ]
    }
   ],
   "source": [
    "a = 93\n",
    "b = 27\n",
    "if a > b:\n",
    "    print(\"a es mayor que b\")\n",
    "elif a < b:\n",
    "    print(\"a es menor que b\")\n",
    "else: \n",
    "    print (\"a es igual que b\")"
   ]
  },
  {
   "cell_type": "code",
   "execution_count": 14,
   "metadata": {},
   "outputs": [
    {
     "name": "stdout",
     "output_type": "stream",
     "text": [
      "57\n"
     ]
    }
   ],
   "source": [
    "a = 23\n",
    "b = 34\n",
    "if a == 34 or b == 34:\n",
    "    print (a + b)"
   ]
  },
  {
   "cell_type": "markdown",
   "metadata": {},
   "source": [
    "## Entregable de kata 3\n",
    "A continuación están los ejercicios solicitados."
   ]
  },
  {
   "cell_type": "code",
   "execution_count": 23,
   "metadata": {},
   "outputs": [
    {
     "name": "stdout",
     "output_type": "stream",
     "text": [
      "Habitantes de la tierra, \n",
      "cuidado! un asteroide se \n",
      "aproxima a 49 km/s.\n"
     ]
    }
   ],
   "source": [
    "astvel_kms = 49\n",
    "maxvel_kms = 25\n",
    "if astvel_kms > maxvel_kms:\n",
    "    print('Habitantes de la tierra, \\ncuidado! un asteroide se \\naproxima a', str(astvel_kms), 'km/s.')\n",
    "else:\n",
    "    print('Tranquilos, todo esta bien')\n"
   ]
  },
  {
   "cell_type": "code",
   "execution_count": 26,
   "metadata": {},
   "outputs": [
    {
     "name": "stdout",
     "output_type": "stream",
     "text": [
      "No habra espectaculo\n"
     ]
    }
   ],
   "source": [
    "astvel_kms = 19\n",
    "maxvel_kms = 20\n",
    "if astvel_kms > maxvel_kms:\n",
    "    print('Vean la luz del asteroide')\n",
    "elif astvel_kms == maxvel_kms:\n",
    "    print('Vean la luz del asteroide')\n",
    "else:\n",
    "    print('No habra espectaculo')"
   ]
  },
  {
   "cell_type": "code",
   "execution_count": 30,
   "metadata": {},
   "outputs": [
    {
     "name": "stdout",
     "output_type": "stream",
     "text": [
      "Habitantes de la tierra, \n",
      "cuidado! un asteroide se \n",
      "aproxima a 48 km/s \n",
      "y es muy peligroso.\n"
     ]
    }
   ],
   "source": [
    "astvel_kms = 48\n",
    "maxvel_kms = 25\n",
    "ast_tamaño = 151\n",
    "if astvel_kms > maxvel_kms and ast_tamaño > 25:\n",
    "    print('Habitantes de la tierra, \\ncuidado! un asteroide se \\naproxima a', str(astvel_kms), 'km/s \\ny es muy peligroso.')\n",
    "elif astvel_kms <= 20 and ast_tamaño < 25:\n",
    "    print('Vean la luz del asteroide')\n",
    "elif ast_tamaño < 25:\n",
    "    print('No hay peligro')\n",
    "else:\n",
    "    print('No habra espectaculo')"
   ]
  }
 ],
 "metadata": {
  "interpreter": {
   "hash": "c13466178f2c0bdc7a6c6895cf13353662263f09b1bfb5c7d13eacc9395e8577"
  },
  "kernelspec": {
   "display_name": "Python 3.7.6 64-bit",
   "language": "python",
   "name": "python3"
  },
  "language_info": {
   "codemirror_mode": {
    "name": "ipython",
    "version": 3
   },
   "file_extension": ".py",
   "mimetype": "text/x-python",
   "name": "python",
   "nbconvert_exporter": "python",
   "pygments_lexer": "ipython3",
   "version": "3.7.6"
  },
  "orig_nbformat": 4
 },
 "nbformat": 4,
 "nbformat_minor": 2
}
