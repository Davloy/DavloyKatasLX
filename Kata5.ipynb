{
 "cells": [
  {
   "cell_type": "markdown",
   "metadata": {},
   "source": [
    "## Ejercicios de kata 5\n",
    "Distancia entre planetas"
   ]
  },
  {
   "cell_type": "code",
   "execution_count": 4,
   "metadata": {},
   "outputs": [
    {
     "name": "stdout",
     "output_type": "stream",
     "text": [
      "628949330\n",
      "390577534\n"
     ]
    }
   ],
   "source": [
    "sun_earth = int(149597870)\n",
    "sun_jupyter = int(778547200)\n",
    "\n",
    "km_distance = (sun_earth - sun_jupyter)\n",
    "km_abs = abs(km_distance)\n",
    "print(km_abs)\n",
    "mi_distance = (km_abs * 0.621)\n",
    "print(round(mi_distance))"
   ]
  },
  {
   "cell_type": "markdown",
   "metadata": {},
   "source": [
    "Leer valores, absolutos y conversión de cadenas en numeros"
   ]
  },
  {
   "cell_type": "code",
   "execution_count": 7,
   "metadata": {},
   "outputs": [
    {
     "name": "stdout",
     "output_type": "stream",
     "text": [
      "50300000\n",
      "31236300\n"
     ]
    }
   ],
   "source": [
    "sun_venus = input('Cual es la distancia entre el sol y venus?')\n",
    "sun_mercury = input('Cual es la distancia entre el sol y mercurio?')\n",
    "\n",
    "venus_distance = int(sun_venus)\n",
    "mercury_distance = int(sun_mercury)\n",
    "\n",
    "km_distance = (venus_distance - mercury_distance)\n",
    "km_abs = abs(km_distance)\n",
    "print(km_abs)\n",
    "mi_distance = (km_abs * 0.621)\n",
    "print(round(mi_distance))"
   ]
  }
 ],
 "metadata": {
  "interpreter": {
   "hash": "c13466178f2c0bdc7a6c6895cf13353662263f09b1bfb5c7d13eacc9395e8577"
  },
  "kernelspec": {
   "display_name": "Python 3.7.6 64-bit",
   "language": "python",
   "name": "python3"
  },
  "language_info": {
   "codemirror_mode": {
    "name": "ipython",
    "version": 3
   },
   "file_extension": ".py",
   "mimetype": "text/x-python",
   "name": "python",
   "nbconvert_exporter": "python",
   "pygments_lexer": "ipython3",
   "version": "3.7.6"
  },
  "orig_nbformat": 4
 },
 "nbformat": 4,
 "nbformat_minor": 2
}
